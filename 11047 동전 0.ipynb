{
 "cells": [
  {
   "cell_type": "markdown",
   "metadata": {},
   "source": [
    "## 문제"
   ]
  },
  {
   "cell_type": "markdown",
   "metadata": {},
   "source": [
    "준규가 가지고 있는 동전은 총 N종류이고, 각각의 동전을 매우 많이 가지고 있다.<br>\n",
    "\n",
    "동전을 적절히 사용해서 그 가치의 합을 K로 만들려고 한다. 이때 필요한 동전 개수의 최솟값을 구하는 프로그램을 작성하시오.<br>\n",
    "\n",
    "(시간 제한 : 1 초   ;   메모리 제한 : 256MB)"
   ]
  },
  {
   "cell_type": "markdown",
   "metadata": {},
   "source": [
    "## 입력"
   ]
  },
  {
   "cell_type": "markdown",
   "metadata": {},
   "source": [
    "첫째 줄에 N과 K가 주어진다. (1 ≤ N ≤ 10, 1 ≤ K ≤ 100,000,000)<br>\n",
    "\n",
    "둘째 줄부터 N개의 줄에 동전의 가치 Ai가 오름차순으로 주어진다. (1 ≤ Ai ≤ 1,000,000, A1 = 1, i ≥ 2인 경우에 Ai는 Ai-1의 배수)"
   ]
  },
  {
   "cell_type": "markdown",
   "metadata": {},
   "source": [
    "## 출력"
   ]
  },
  {
   "cell_type": "markdown",
   "metadata": {},
   "source": [
    "첫째 줄에 K원을 만드는데 필요한 동전 개수의 최솟값을 출력한다."
   ]
  },
  {
   "cell_type": "markdown",
   "metadata": {},
   "source": [
    "|예제입력1|예제출력1|         |예제입력2|예제출력2| \n",
    "|:--------|:--------|:--------|:--------|:--------|\n",
    "|10 4200  |6        |         |10 4790  |12       |\n",
    "1         |         |         |1\n",
    "5         |         |         |5\n",
    "10        |         |         |10\n",
    "50        |         |         |50\n",
    "100       |         |         |100\n",
    "500       |         |         |500\n",
    "1000      |         |         |1000\n",
    "5000      |         |         |5000\n",
    "10000     |         |         |10000\n",
    "50000     |         |         |50000"
   ]
  },
  {
   "cell_type": "markdown",
   "metadata": {},
   "source": [
    "## 풀이"
   ]
  },
  {
   "cell_type": "markdown",
   "metadata": {},
   "source": [
    "#### 시도 1"
   ]
  },
  {
   "cell_type": "markdown",
   "metadata": {},
   "source": [
    "N과 K를 입력받고 N의 수 만큼 가지고 있는 동전의 종류를 배열로 저장한다.<br>\n",
    "배열을 내림차순으로 정렬하고 반복문을 통해 K 이하의 수 중 최댓값을 찾아 K에서 빼주는 과정을 반복한다."
   ]
  },
  {
   "cell_type": "code",
   "execution_count": null,
   "metadata": {},
   "outputs": [],
   "source": [
    "#값 입력 및 변수 초기화\n",
    "N, K = map(int, input().split())\n",
    "N_list = []\n",
    "c_count = 0\n",
    "\n",
    "#동전 리스트 입력\n",
    "for _ in range(N):\n",
    "    N_list.append(input())\n",
    "    \n",
    "# 입력 받은 배열 요소를 내림차순으로 정렬\n",
    "N_list.reverse() \n",
    "\n",
    "# K값 보다 낮은 수 중 가장 큰 수 부터 차례대로 빼면서 동전 수 세기\n",
    "for i in N_list:\n",
    "    if K >= int(i):\n",
    "        while K >= int(i):\n",
    "            K = K - int(i)\n",
    "            c_count += 1\n",
    "            # K 값이 0이 되면 종료\n",
    "            if K == 0:\n",
    "                break;\n",
    "                \n",
    "print(c_count)"
   ]
  },
  {
   "cell_type": "markdown",
   "metadata": {},
   "source": [
    "값은 정확하게 나오나 시간초과로 인하여 새로운 방법으로 시도했다."
   ]
  },
  {
   "cell_type": "markdown",
   "metadata": {},
   "source": [
    "#### 시도 2"
   ]
  },
  {
   "cell_type": "markdown",
   "metadata": {},
   "source": [
    "시도 1에서는 완전히 정확한 뺄셈을 추구하여 코드와 실행 시간이 길어졌다.<br>\n",
    "시도 2에서는 조금 두루뭉실한 뺄셈을 추구하여 좀 더 간결하고 효율성 있는 코드를 사용했다.<br>\n",
    "남은 금액의 정확한 액수를 구하는 전의 코드와 달리 그에 필요한 몫을 구한 뒤 남은 수를 저장하는 방식을 반복했다."
   ]
  },
  {
   "cell_type": "code",
   "execution_count": 26,
   "metadata": {
    "scrolled": false
   },
   "outputs": [
    {
     "name": "stdout",
     "output_type": "stream",
     "text": [
      "10 3870\n",
      "1\n",
      "5\n",
      "10\n",
      "50\n",
      "100\n",
      "500\n",
      "1000\n",
      "5000\n",
      "10000\n",
      "50000\n"
     ]
    }
   ],
   "source": [
    "N, K = map(int, input().split())\n",
    "N_list = []\n",
    "c_count = 0\n",
    "\n",
    "for _ in range(N):\n",
    "    N_list.append(int(input()))\n",
    "    \n",
    "N_list.reverse() # 입력 받은 배열 요소를 내림차순으로 정렬\n",
    "\n",
    "for i in N_list:\n",
    "    if K == 0:\n",
    "        break;\n",
    "    c_count += K // i\n",
    "    K %= i\n",
    "    \n",
    "print(c_count)"
   ]
  },
  {
   "cell_type": "markdown",
   "metadata": {},
   "source": [
    "## 느낀점"
   ]
  },
  {
   "cell_type": "markdown",
   "metadata": {},
   "source": [
    "정직한 코드도 좋지만 효율성도 따질 줄 알아야 한다는 생각이 들었다.<br>\n",
    "값을 구해도 필요가 없는 값은 실질적으로 필요가 없기에 과감하게 버리고, <br>\n",
    "꼭 필요한 값을 구하는 것이 그리디 알고리즘에 가장 적합한 방식이지 않을까 생각이 든다."
   ]
  },
  {
   "cell_type": "code",
   "execution_count": null,
   "metadata": {},
   "outputs": [],
   "source": []
  }
 ],
 "metadata": {
  "kernelspec": {
   "display_name": "Python 3",
   "language": "python",
   "name": "python3"
  },
  "language_info": {
   "codemirror_mode": {
    "name": "ipython",
    "version": 3
   },
   "file_extension": ".py",
   "mimetype": "text/x-python",
   "name": "python",
   "nbconvert_exporter": "python",
   "pygments_lexer": "ipython3",
   "version": "3.8.5"
  }
 },
 "nbformat": 4,
 "nbformat_minor": 4
}
