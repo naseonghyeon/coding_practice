{
 "cells": [
  {
   "cell_type": "markdown",
   "metadata": {},
   "source": [
    "## 문제"
   ]
  },
  {
   "cell_type": "markdown",
   "metadata": {},
   "source": [
    "등산가 김강산은 가족들과 함께 캠핑을 떠났다. 하지만, 캠핑장에는 다음과 같은 경고문이 쓰여 있었다.<br>\n",
    "\n",
    "캠핑장은 연속하는 20일 중 10일동안만 사용할 수 있습니다.<br>\n",
    "\n",
    "강산이는 이제 막 28일 휴가를 시작했다. 이번 휴가 기간 동안 강산이는 캠핑장을 며칠동안 사용할 수 있을까?<br>\n",
    "\n",
    "강산이는 조금 더 일반화해서 문제를 풀려고 한다. <br>\n",
    "\n",
    "캠핑장을 연속하는 P일 중, L일동안만 사용할 수 있다. 강산이는 이제 막 V일짜리 휴가를 시작했다. 강산이가 캠핑장을 최대 며칠동안 사용할 수 있을까? (1 < L < P < V)<br>\n",
    "\n",
    "(시간 제한 : 1 초   ;   메모리 제한 : 128MB)"
   ]
  },
  {
   "cell_type": "markdown",
   "metadata": {},
   "source": [
    "## 입력"
   ]
  },
  {
   "cell_type": "markdown",
   "metadata": {},
   "source": [
    "입력은 여러 개의 테스트 케이스로 이루어져 있다. 각 테스트 케이스는 한 줄로 이루어져 있고, L, P, V를 순서대로 포함하고 있다. 모든 입력 정수는 int범위이다. 마지막 줄에는 0이 3개 주어진다."
   ]
  },
  {
   "cell_type": "markdown",
   "metadata": {},
   "source": [
    "## 출력"
   ]
  },
  {
   "cell_type": "markdown",
   "metadata": {},
   "source": [
    "각 테스트 케이스에 대해서, 강산이가 캠핑장을 최대 며칠동안 사용할 수 있는지 예제 출력처럼 출력한다."
   ]
  },
  {
   "cell_type": "markdown",
   "metadata": {},
   "source": [
    "|예제 입력1|예제 출력1|\n",
    "|:---------|:---------|\n",
    "|5 8 20    |Case1: 14 |\n",
    "|5 8 17    |Case2: 11 |\n",
    "|0 0 0     |"
   ]
  },
  {
   "cell_type": "markdown",
   "metadata": {},
   "source": [
    "## 풀이"
   ]
  },
  {
   "cell_type": "markdown",
   "metadata": {},
   "source": [
    "#### 시도 1"
   ]
  },
  {
   "cell_type": "code",
   "execution_count": 31,
   "metadata": {},
   "outputs": [
    {
     "name": "stdout",
     "output_type": "stream",
     "text": [
      "5 8 20\n",
      "Case1: 14\n",
      "5 8 17\n",
      "Case1: 11\n",
      "0 0 0\n"
     ]
    }
   ],
   "source": [
    "num = 0 # case 번호를 위한 num\n",
    "\n",
    "# while문을 통해 입력되는 횟 수 만큼 반복\n",
    "while True:\n",
    "    L, P, V = map(int, input().split())\n",
    "    # 문제의 조건이 모든 수는 1보다 큰 것이다. 따라서 첫 번째 변수인 L만 0이면 break\n",
    "    if L == 0:\n",
    "        break;\n",
    "        \n",
    "    answer = 0\n",
    "    \n",
    "    # 간단한 덧셈 뺄셈으로 답 구하기\n",
    "    while True:\n",
    "        if V >= P:\n",
    "            V -= P\n",
    "            answer += L\n",
    "        elif V < P:\n",
    "            answer += V\n",
    "            break\n",
    "        \n",
    "    num += 1\n",
    "        \n",
    "    print(\"Case \" + str(num) + \": \" + str(answer))"
   ]
  },
  {
   "cell_type": "markdown",
   "metadata": {},
   "source": [
    "주어진 입력과 출력은 맞게 나오지만 정답은 틀렸다고 나온다.<br>\n",
    "\n",
    "수식이 틀린 것인지 메모리와 시간초에서 걸리는 것인지는 모르겠다.<br>\n",
    "\n",
    "중첩 while을 사용해서 시간에서 걸릴것 같다는 추측이 생긴다.<br>"
   ]
  },
  {
   "cell_type": "markdown",
   "metadata": {},
   "source": [
    "#### 시도 2"
   ]
  },
  {
   "cell_type": "code",
   "execution_count": 33,
   "metadata": {},
   "outputs": [
    {
     "name": "stdout",
     "output_type": "stream",
     "text": [
      "5 8 20\n",
      "Case 1: 14\n",
      "5 8 17\n",
      "Case 2: 11\n",
      "0 0 0\n"
     ]
    }
   ],
   "source": [
    "num = 0 # case 번호를 위한 num\n",
    "\n",
    "# while문을 통해 입력되는 횟 수 만큼 반복\n",
    "while True:\n",
    "    L, P, V = map(int, input().split())\n",
    "    \n",
    "    # 문제의 조건이 모든 수는 1보다 큰 것이다. 따라서 첫 번째 변수인 L만 0이면 break\n",
    "    if L == 0:\n",
    "        break;\n",
    "        \n",
    "    answer = 0\n",
    "    num += 1\n",
    "    \n",
    "    # 수식으로 답 구하기\n",
    "    answer += (V//P*L) + min(V%P, L)\n",
    "    \n",
    "    print(\"Case \" + str(num) + \": \" + str(answer))"
   ]
  },
  {
   "cell_type": "markdown",
   "metadata": {},
   "source": [
    "시도 1 외에 다른 방법이 생각나지 않아 검색을 하여 찾은 블로그의 답을 참고했다.<br>\n",
    "\n",
    "거의 비슷했으나 수식이 달랐고 그로 인해 코드도 짧아졌다.<br>\n",
    "\n",
    "아마 시도 1에서의 수식은 조금은 다른 답인데 예제를 많이 실행해보지 않아서 틀린줄 몰랐던 것 같다.<br>\n",
    "\n",
    "문제의 해설은 먼저 L, P V를 각각 입력 받고 0 0 0이 입력되면 종료하라고 주어져있다.<br>\n",
    "\n",
    "문제 속에 제시된 조건에서 L, P, V는 모두 1보다 커야 한다고 주어져있다.<br>\n",
    "\n",
    "따라서 가장 첫 번째 변수인 L의 값만 0이 되어 있다면 종료를 시키게 만들었다.<br>\n",
    "\n",
    "그 뒤로는 첫 번째 시도에서 덧셈과 뺄셈으로 반복하게 되었던 식이 //와 %, *로 간단하게 바뀌었다.<br>"
   ]
  },
  {
   "cell_type": "markdown",
   "metadata": {},
   "source": [
    "### 느낀점"
   ]
  },
  {
   "cell_type": "markdown",
   "metadata": {},
   "source": [
    "if만 생각하고 있던 상황에서 min의 등장은 머리를 치는 해답이었다.<br>\n",
    "\n",
    "아직은 숲만 보고 있는 것 같다.<br>\n",
    "\n",
    "또 수식을 제대로 생각해내지 못하는 것을 보면 더 다양한 사고 방식을 갖도록 연습 해야 겠다는 생각이 든다.<br>"
   ]
  },
  {
   "cell_type": "code",
   "execution_count": null,
   "metadata": {},
   "outputs": [],
   "source": []
  }
 ],
 "metadata": {
  "kernelspec": {
   "display_name": "Python 3",
   "language": "python",
   "name": "python3"
  },
  "language_info": {
   "codemirror_mode": {
    "name": "ipython",
    "version": 3
   },
   "file_extension": ".py",
   "mimetype": "text/x-python",
   "name": "python",
   "nbconvert_exporter": "python",
   "pygments_lexer": "ipython3",
   "version": "3.8.5"
  }
 },
 "nbformat": 4,
 "nbformat_minor": 4
}
