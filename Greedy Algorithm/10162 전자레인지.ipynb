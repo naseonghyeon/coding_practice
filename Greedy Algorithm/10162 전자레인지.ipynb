{
 "cells": [
  {
   "cell_type": "markdown",
   "metadata": {},
   "source": [
    "## 문제"
   ]
  },
  {
   "cell_type": "markdown",
   "metadata": {},
   "source": [
    "3개의 시간조절용 버튼 A B C가 달린 전자레인지가 있다. 각 버튼마다 일정한 시간이 지정되어 있어 해당 버튼을 한번 누를 때마다 그 시간이 동작시간에 더해진다. 버튼 A, B, C에 지정된 시간은 각각 5분, 1분, 10초이다.<br>\n",
    "\n",
    "냉동음식마다 전자레인지로 요리해야할 시간 T가 초단위로 표시되어 있다. 우리는 A, B, C 3개의 버튼을 적절히 눌러서 그 시간의 합이 정확히 T초가 되도록 해야 한다. 단 버튼 A, B, C를 누른 횟수의 합은 항상 최소가 되어야 한다. 이것을 최소버튼 조작이라고 한다.<br> \n",
    "\n",
    "만일 요리시간이 100초라고 하면(T=100) B를 1번, C는 4번 누르면 된다. 이와 다르게 C를 10번 눌러도 100초가 되지만 이 경우 10번은 최소 횟수가 아니기 때문이 답이 될 수 없다. 이 경우 B 1번, C 4번, 총 5번이 최소버튼 조작이다. 그리고 T=234와 같이 3개의 버튼으로 시간을 정확히 맞출 수 없는 경우도 있다. <br>\n",
    "\n",
    "여러분은 주어진 요리시간 T초를 맞추기 위한 최소버튼 조작 방법을 구하는 프로그램을 작성해야 한다. <br>\n",
    "\n",
    "(시간 제한 : 1 초   ;   메모리 제한 : 64MB)"
   ]
  },
  {
   "cell_type": "markdown",
   "metadata": {},
   "source": [
    "## 입력"
   ]
  },
  {
   "cell_type": "markdown",
   "metadata": {},
   "source": [
    "첫 번째 줄에는 요리시간 T(초)가 정수로 주어져 있으며 그 범위는 1 ≤ T ≤ 10,000 이다. "
   ]
  },
  {
   "cell_type": "markdown",
   "metadata": {},
   "source": [
    "## 출력"
   ]
  },
  {
   "cell_type": "markdown",
   "metadata": {},
   "source": [
    "여러분은 T초를 위한 최소버튼 조작의 A B C 횟수를 첫 줄에 차례대로 출력해야 한다. 각각의 횟수 사이에는 빈 칸을 둔다. 해당 버튼을 누르지 않는 경우에는 숫자 0을 출력해야한다. 만일 제시된 3개의 버튼으로 T초를 맞출 수 없으면 음수 -1을 첫 줄에 출력해야 한다. "
   ]
  },
  {
   "cell_type": "markdown",
   "metadata": {},
   "source": [
    "|예제입력1|예제출력1|      |예제입력2|예제출력2| \n",
    "|:--------|:--------|:-----|:--------|:--------|\n",
    "|100      |0 1 4    |      |189      |-1       |"
   ]
  },
  {
   "cell_type": "markdown",
   "metadata": {},
   "source": [
    "## 서브태스크"
   ]
  },
  {
   "cell_type": "markdown",
   "metadata": {},
   "source": [
    "|번호 |배점 |제한     |\n",
    "|:----|:----|:--------|\n",
    "|1    |30   |T<=60    |\n",
    "|2    |30   |T<=300   |\n",
    "|3    |40   |T<=10,000|"
   ]
  },
  {
   "cell_type": "markdown",
   "metadata": {},
   "source": [
    "## 풀이"
   ]
  },
  {
   "cell_type": "markdown",
   "metadata": {},
   "source": [
    "요리 시간을 먼저 입력 받는다.<br>\n",
    "\n",
    "5분, 1분, 10초를 카운트 할 변수를 생성한다.<br>\n",
    "\n",
    "5분, 1분, 10초로 시간을 맞출 수 없으면 -1를 출력해야 하므로 입력 받은 요리시간을 10으로 나누었을때 나머지가 0이 아니면 -1을 출력한다.<br>\n",
    "\n",
    "나머지가 0이라면 반복문을 통해 조건에 맞춰 300초, 60초, 10초씩 제거하면서 각각의 카운트를 올린다.<br>"
   ]
  },
  {
   "cell_type": "code",
   "execution_count": 3,
   "metadata": {},
   "outputs": [
    {
     "name": "stdout",
     "output_type": "stream",
     "text": [
      "100\n",
      "0 1 4\n"
     ]
    }
   ],
   "source": [
    "n = int(input())\n",
    "a = 0\n",
    "b = 0\n",
    "c = 0\n",
    "\n",
    "if n % 10 != 0:\n",
    "    print(-1)\n",
    "else:\n",
    "    while n > 0:\n",
    "        if n >= 300:\n",
    "            n -= 300\n",
    "            a += 1\n",
    "        elif 300 > n >= 60:\n",
    "            n -= 60\n",
    "            b += 1\n",
    "        else:\n",
    "            n -= 10\n",
    "            c += 1\n",
    "    print(a, b, c)"
   ]
  },
  {
   "cell_type": "markdown",
   "metadata": {},
   "source": [
    "## 느낀점"
   ]
  },
  {
   "cell_type": "markdown",
   "metadata": {},
   "source": [
    "생각보다 쉽게 풀리는 문제였다.<br>\n",
    "\n",
    "일반적인 그리디 문제에서 카운트만 다르게 해주면 되는 문제였다."
   ]
  },
  {
   "cell_type": "code",
   "execution_count": null,
   "metadata": {},
   "outputs": [],
   "source": []
  }
 ],
 "metadata": {
  "kernelspec": {
   "display_name": "Python 3",
   "language": "python",
   "name": "python3"
  },
  "language_info": {
   "codemirror_mode": {
    "name": "ipython",
    "version": 3
   },
   "file_extension": ".py",
   "mimetype": "text/x-python",
   "name": "python",
   "nbconvert_exporter": "python",
   "pygments_lexer": "ipython3",
   "version": "3.8.5"
  }
 },
 "nbformat": 4,
 "nbformat_minor": 4
}
