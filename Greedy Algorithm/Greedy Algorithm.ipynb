{
 "cells": [
  {
   "cell_type": "markdown",
   "metadata": {},
   "source": [
    "# <font color = blue>그리디 알고리즘(탐욕법, 탐욕알고리즘)</font>"
   ]
  },
  {
   "cell_type": "markdown",
   "metadata": {},
   "source": [
    "이름처럼 Greedy(탐욕, 욕심쟁이)를 뜻한다. 지금 당장의 상황에서 최적의 답을 선택하는 과정을 반복하여 결과를 도출하는 알고리즘이다.<br>\n",
    "말 그대로 각 단계에서 미래에 대한 생각을 배제하고 그 순간 가장 최선의 방법을 선택하기 때문에 전체적인 결과에서 최선의 방법을 보장하진 않는다."
   ]
  },
  {
   "cell_type": "markdown",
   "metadata": {},
   "source": [
    "## <font color = green>장점</font>"
   ]
  },
  {
   "cell_type": "markdown",
   "metadata": {},
   "source": [
    "계산 속도가 매우 빠르다."
   ]
  },
  {
   "cell_type": "markdown",
   "metadata": {},
   "source": [
    "## <font color = green>활용</font>"
   ]
  },
  {
   "cell_type": "markdown",
   "metadata": {},
   "source": [
    "greedy choice property: 현재 선택이 이후의 선택에 영향을 주지 않음<br>\n",
    "optimal substructure: 매 순간의 최적의 해가 문제 전체에 대한 최적의 해여야 함"
   ]
  },
  {
   "cell_type": "code",
   "execution_count": null,
   "metadata": {},
   "outputs": [],
   "source": []
  }
 ],
 "metadata": {
  "kernelspec": {
   "display_name": "Python 3",
   "language": "python",
   "name": "python3"
  },
  "language_info": {
   "codemirror_mode": {
    "name": "ipython",
    "version": 3
   },
   "file_extension": ".py",
   "mimetype": "text/x-python",
   "name": "python",
   "nbconvert_exporter": "python",
   "pygments_lexer": "ipython3",
   "version": "3.8.5"
  }
 },
 "nbformat": 4,
 "nbformat_minor": 4
}
