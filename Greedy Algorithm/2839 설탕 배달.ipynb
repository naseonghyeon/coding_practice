{
 "cells": [
  {
   "cell_type": "markdown",
   "metadata": {},
   "source": [
    "## 문제"
   ]
  },
  {
   "cell_type": "markdown",
   "metadata": {},
   "source": [
    "상근이는 요즘 설탕공장에서 설탕을 배달하고 있다. 상근이는 지금 사탕가게에 설탕을 정확하게 N킬로그램을 배달해야 한다. 설탕공장에서 만드는 설탕은 봉지에 담겨져 있다. 봉지는 3킬로그램 봉지와 5킬로그램 봉지가 있다.<br>\n",
    "\n",
    "상근이는 귀찮기 때문에, 최대한 적은 봉지를 들고 가려고 한다. 예를 들어, 18킬로그램 설탕을 배달해야 할 때, 3킬로그램 봉지 6개를 가져가도 되지만, 5킬로그램 3개와 3킬로그램 1개를 배달하면, 더 적은 개수의 봉지를 배달할 수 있다.<br>\n",
    "\n",
    "상근이가 설탕을 정확하게 N킬로그램 배달해야 할 때, 봉지 몇 개를 가져가면 되는지 그 수를 구하는 프로그램을 작성하시오.<br>\n",
    "\n",
    "(시간 제한 : 1 초   ;   메모리 제한 : 128MB)"
   ]
  },
  {
   "cell_type": "markdown",
   "metadata": {},
   "source": [
    "## 입력"
   ]
  },
  {
   "cell_type": "markdown",
   "metadata": {},
   "source": [
    "첫째 줄에 N이 주어진다. (3 ≤ N ≤ 5000)"
   ]
  },
  {
   "cell_type": "markdown",
   "metadata": {},
   "source": [
    "## 출력"
   ]
  },
  {
   "cell_type": "markdown",
   "metadata": {},
   "source": [
    "상근이가 배달하는 봉지의 최소 개수를 출력한다. 만약, 정확하게 N킬로그램을 만들 수 없다면 -1을 출력한다."
   ]
  },
  {
   "cell_type": "markdown",
   "metadata": {},
   "source": [
    "|예제 입력1|예제 출력1|          |예제 입력2|예제 출력2|          |예제 입력3|예제 출력3|\n",
    "|:---------|:---------|:---------|:---------|:---------|:---------|:---------|:---------|\n",
    "|18        |4         |          |4         |-1        |          |6         |2         |"
   ]
  },
  {
   "cell_type": "markdown",
   "metadata": {},
   "source": [
    "|예제 입력4  |예제 출력4|          |예제 입력5  |예제 출력5|\n",
    "|:-----------|:---------|:---------|:-----------|:---------|\n",
    "|11          |3         |          |9           |3         |"
   ]
  },
  {
   "cell_type": "markdown",
   "metadata": {},
   "source": [
    "## 풀이"
   ]
  },
  {
   "cell_type": "code",
   "execution_count": 3,
   "metadata": {},
   "outputs": [
    {
     "name": "stdout",
     "output_type": "stream",
     "text": [
      "18\n",
      "4\n"
     ]
    }
   ],
   "source": [
    "N = int(input())\n",
    "cnt = 0\n",
    "\n",
    "while True:\n",
    "    if N % 5 == 0:\n",
    "        cnt += N // 5\n",
    "        break\n",
    "    N -= 3\n",
    "    cnt += 1\n",
    "    \n",
    "    if N < 0:\n",
    "        cnt = -1\n",
    "        break\n",
    "            \n",
    "print(cnt)"
   ]
  },
  {
   "cell_type": "markdown",
   "metadata": {},
   "source": [
    "이 문제는 만약 5로 나뉘어 질 수 있는 수라면 5로 나누고 그 몫을 출력하면 된다.<br>\n",
    "\n",
    "5로 나뉘어 지지 않는다면 3을 빼 보고 위의 순서를 반복한다.<br>\n",
    "\n",
    "그렇게 반복하다 5로 나뉘어지면 카운트를 출력하고 반복문을 종료한다.<br>\n",
    "\n",
    "그러나 만일 5로 나뉘어지지 않고 계속 3씩 빼다가 0 이하로 가는 경우 카운트를 -1로 변경하고 종료한다."
   ]
  },
  {
   "cell_type": "markdown",
   "metadata": {},
   "source": [
    "### 느낀점"
   ]
  },
  {
   "cell_type": "markdown",
   "metadata": {},
   "source": [
    "처음엔 쉽고 간단한 문제라고 생각했다.<br>\n",
    "\n",
    "그냥 5를 뺄 수 있는 만큼 빼고 안되면 3으로 빼는 방식으로 하면 될 줄 알았다.<br>\n",
    "\n",
    "그러나 생각보다 간단한 문제가 아니었다.<br>\n",
    "\n",
    "만일 16같은 경우 5가 2, 3이 2 필요한 경우이기 때문에 5를 3번 빼버리면 해결이 안되기 때문이다.<br>\n",
    "\n",
    "다른 방법을 생각하다 결국 검색을 하게 되었다.<br>\n",
    "\n",
    "오늘 문제를 통해서 문제에 겁을 먹어선 안되지만 너무 쉽게 생각하거나 방심하면 틀릴 수 있다는 것을 몸소 깨닫게 되었다."
   ]
  },
  {
   "cell_type": "code",
   "execution_count": null,
   "metadata": {},
   "outputs": [],
   "source": []
  }
 ],
 "metadata": {
  "kernelspec": {
   "display_name": "Python 3",
   "language": "python",
   "name": "python3"
  },
  "language_info": {
   "codemirror_mode": {
    "name": "ipython",
    "version": 3
   },
   "file_extension": ".py",
   "mimetype": "text/x-python",
   "name": "python",
   "nbconvert_exporter": "python",
   "pygments_lexer": "ipython3",
   "version": "3.8.5"
  }
 },
 "nbformat": 4,
 "nbformat_minor": 4
}
