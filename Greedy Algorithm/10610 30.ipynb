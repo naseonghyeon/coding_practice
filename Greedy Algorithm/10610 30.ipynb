{
 "cells": [
  {
   "cell_type": "markdown",
   "metadata": {},
   "source": [
    "## 문제"
   ]
  },
  {
   "cell_type": "markdown",
   "metadata": {},
   "source": [
    "어느 날, 미르코는 우연히 길거리에서 양수 N을 보았다. 미르코는 30이란 수를 존경하기 때문에, 그는 길거리에서 찾은 수에 포함된 숫자들을 섞어 30의 배수가 되는 가장 큰 수를 만들고 싶어한다.<br>\n",
    "\n",
    "미르코를 도와 그가 만들고 싶어하는 수를 계산하는 프로그램을 작성하라.<br>\n",
    "\n",
    "(시간 제한 : 1 초   ;   메모리 제한 : 256MB)"
   ]
  },
  {
   "cell_type": "markdown",
   "metadata": {},
   "source": [
    "## 입력"
   ]
  },
  {
   "cell_type": "markdown",
   "metadata": {},
   "source": [
    "N을 입력받는다. N는 최대 105개의 숫자로 구성되어 있으며, 0으로 시작하지 않는다."
   ]
  },
  {
   "cell_type": "markdown",
   "metadata": {},
   "source": [
    "## 출력"
   ]
  },
  {
   "cell_type": "markdown",
   "metadata": {},
   "source": [
    "미르코가 만들고 싶어하는 수가 존재한다면 그 수를 출력하라. 그 수가 존재하지 않는다면, -1을 출력하라."
   ]
  },
  {
   "cell_type": "markdown",
   "metadata": {},
   "source": [
    "|예제 입력1|예제 입력2|          |예제 입력2|예제 출력2|          |예제 입력3|예제 출력3|          |예제 입력4|예제 출력4|\n",
    "|:---------|:---------|:---------|:---------|:---------|:---------|:---------|:---------|:---------|:---------|:---------|\n",
    "|30        |30        |          |102       |210       |          |2931      |-1        |          |80875542  |88755420  |\n"
   ]
  },
  {
   "cell_type": "markdown",
   "metadata": {},
   "source": [
    "## 풀이"
   ]
  },
  {
   "cell_type": "markdown",
   "metadata": {},
   "source": [
    "30의 배수가 되기 위해서는 2가지의 조건이 있다.<br>\n",
    "(3의 배수이어야 한다 / 숫자의 끝 자리가 0이어야 한다.)<br>\n",
    "\n",
    "입력 받은 값을 리스트로 변경하고 위의 조건을 사용하여 각 단계별로 조건에 맞는지 확인한다.<br>\n",
    "\n",
    "·리스트 안에 0이 들어가 있으면 30의 배수이다.<br>\n",
    "·입력된 값의 최댓값이 3으로 나뉘어 지면 30의 배수이다.<br>"
   ]
  },
  {
   "cell_type": "code",
   "execution_count": 38,
   "metadata": {},
   "outputs": [
    {
     "name": "stdout",
     "output_type": "stream",
     "text": [
      "80875542\n",
      "88755420\n"
     ]
    }
   ],
   "source": [
    "# 수를 입력 받고 내림차순으로 정렬(최댓값을 구해야 함)\n",
    "N = input()\n",
    "N = sorted(N, reverse = True)\n",
    "\n",
    "# 3의 배수를 확인하기 위한 총 합 값 구하기\n",
    "Sum = 0\n",
    "for i in N:\n",
    "    Sum += int(i)\n",
    "\n",
    "# 조건에 부합한지 확인 후 출력\n",
    "if '0' in N and Sum % 3 == 0:\n",
    "    print(''.join(N))\n",
    "else:\n",
    "    print(-1)"
   ]
  },
  {
   "cell_type": "markdown",
   "metadata": {},
   "source": [
    "### 느낀점"
   ]
  },
  {
   "cell_type": "markdown",
   "metadata": {},
   "source": [
    "문제를 해결 할 때 주어진 요소의 특징을 보는 연습을 해야 할 것 같다. 처음 30의 배수의 조건을 알지 못하여 많은 시간을 헤맸으나 검색으로 30의 배수의 조건을 알게되고 해결이 훨씬 쉬워졌다.<br>\n",
    "그리고 다른 사람들의 코드를 보니 더 간결한 코드를 사용한 사람들이 있었다.<br>\n",
    "지금은 무리겠지만 앞으로는 조금씩 코드를 간결하게 만드는 연습도 해야겠다."
   ]
  },
  {
   "cell_type": "code",
   "execution_count": null,
   "metadata": {},
   "outputs": [],
   "source": []
  }
 ],
 "metadata": {
  "kernelspec": {
   "display_name": "Python 3",
   "language": "python",
   "name": "python3"
  },
  "language_info": {
   "codemirror_mode": {
    "name": "ipython",
    "version": 3
   },
   "file_extension": ".py",
   "mimetype": "text/x-python",
   "name": "python",
   "nbconvert_exporter": "python",
   "pygments_lexer": "ipython3",
   "version": "3.8.5"
  }
 },
 "nbformat": 4,
 "nbformat_minor": 4
}
