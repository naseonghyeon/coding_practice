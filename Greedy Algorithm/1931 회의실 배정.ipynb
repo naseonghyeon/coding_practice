{
 "cells": [
  {
   "cell_type": "markdown",
   "metadata": {},
   "source": [
    "## 문제"
   ]
  },
  {
   "cell_type": "markdown",
   "metadata": {},
   "source": [
    "한 개의 회의실이 있는데 이를 사용하고자 하는 N개의 회의에 대하여 회의실 사용표를 만들려고 한다. 각 회의 I에 대해 시작시간과 끝나는 시간이 주어져 있고, 각 회의가 겹치지 않게 하면서 회의실을 사용할 수 있는 회의의 최대 개수를 찾아보자. 단, 회의는 한번 시작하면 중간에 중단될 수 없으며 한 회의가 끝나는 것과 동시에 다음 회의가 시작될 수 있다. 회의의 시작시간과 끝나는 시간이 같을 수도 있다. 이 경우에는 시작하자마자 끝나는 것으로 생각하면 된다.<br>\n",
    "\n",
    "(시간 제한 : 2 초   ;   메모리 제한 : 128MB)"
   ]
  },
  {
   "cell_type": "markdown",
   "metadata": {},
   "source": [
    "## 입력"
   ]
  },
  {
   "cell_type": "markdown",
   "metadata": {},
   "source": [
    "첫째 줄에 회의의 수 N(1 ≤ N ≤ 100,000)이 주어진다. 둘째 줄부터 N+1 줄까지 각 회의의 정보가 주어지는데 이것은 공백을 사이에 두고 회의의 시작시간과 끝나는 시간이 주어진다. 시작 시간과 끝나는 시간은 231-1보다 작거나 같은 자연수 또는 0이다.<br>"
   ]
  },
  {
   "cell_type": "markdown",
   "metadata": {},
   "source": [
    "## 출력"
   ]
  },
  {
   "cell_type": "markdown",
   "metadata": {},
   "source": [
    "첫째 줄에 최대 사용할 수 있는 회의의 최대 개수를 출력한다."
   ]
  },
  {
   "cell_type": "markdown",
   "metadata": {},
   "source": [
    "|예제입력1|예제출력1| \n",
    "|:--------|:--------|\n",
    "|11       |4        |\n",
    "1 4       |         |\n",
    "3 5       |         |\n",
    "0 6       |         |\n",
    "5 7       |         |\n",
    "3 8       |         |\n",
    "5 9       |         |\n",
    "6 10      |         |\n",
    "8 11      |         |\n",
    "8 12      |         |\n",
    "2 13      |         |\n",
    "12 14     |         |"
   ]
  },
  {
   "cell_type": "markdown",
   "metadata": {},
   "source": [
    "## 풀이"
   ]
  },
  {
   "cell_type": "markdown",
   "metadata": {},
   "source": [
    "문제에서 주어진 입력 내용을 입력해준다.<br>\n",
    "\n",
    "입력 받은 회의 시간 리스트를 시작 시간으로 정렬 후 정렬 된 리스트를 끝 시간으로 재정렬 한다.<br>\n",
    "\n",
    "정렬된 리스트를 사용하여 반복문을 사용한다.<br>\n",
    "\n",
    "요소i의 시작 시간이 현재 회의의 끝 시간보다 크다면 회의를 바꾸고 회의실의 수를 올린다."
   ]
  },
  {
   "cell_type": "code",
   "execution_count": 1,
   "metadata": {},
   "outputs": [
    {
     "name": "stdout",
     "output_type": "stream",
     "text": [
      "11\n",
      "1 4\n",
      "3 5\n",
      "0 6\n",
      "5 7\n",
      "3 8\n",
      "5 9\n",
      "6 10\n",
      "8 11\n",
      "8 12\n",
      "2 13\n",
      "12 14\n"
     ]
    }
   ],
   "source": [
    "N = int(input()) # 회의의 수 입력\n",
    "N_list = [] # 회의의 시간을 담을 리스트\n",
    "cls = 0 # 회의실의 수\n",
    "\n",
    "# 회의 시간 입력\n",
    "for _ in range(N):\n",
    "    N_list.append(list(map(int, input().split())))\n",
    "\n",
    "# 회의 시간 리스트 정렬\n",
    "N_list.sort(key=lambda x:x[0]) # 시작 시간을 기준으로 정렬\n",
    "N_list.sort(key=lambda x:x[1]) # 정렬 된 리스트를 끝 시간으로 재정렬\n",
    "\n",
    "# 만약 시작 시간이 끝 시간보다 크다면 회의실의 수를 올리고 그 회의가 회의실을 사용하게 함\n",
    "end_time = 0\n",
    "for i in N_list:\n",
    "    if i[0] >= end_time:\n",
    "        end_time = i[1]\n",
    "        cls += 1"
   ]
  },
  {
   "cell_type": "markdown",
   "metadata": {},
   "source": [
    "## 느낀점"
   ]
  },
  {
   "cell_type": "markdown",
   "metadata": {},
   "source": [
    "처음 문제를 봤을 땐 딕셔너리나 2차원 배열을 생각했다.<br>\n",
    "\n",
    "그러나 그 이상으론 생각이 나지 않았다.<br>\n",
    "\n",
    "for문을 사용하여 시작 시간과 끝 시간을 비교할까 생각도 했지만 코드가 너무 복잡해지고 시간 복잡도 측면에 효율성이 떨어질 것 같았다.<br>\n",
    "\n",
    "고민을 하던 끝에 다른 사람들의 풀이를 보았다.<br>\n",
    "\n",
    "나는 배열을 정렬 하는 것을 간과하였으나 다른 사람들은 배열을 신중하게 사용하였다.<br>\n",
    "\n",
    "배열의 중요성을 크게 깨닫지 못했었는데 이번 문제를 통해 배열을 좀 더 자세히 공부해야겠다는 생각이 든다."
   ]
  },
  {
   "cell_type": "markdown",
   "metadata": {},
   "source": [
    "## 배열"
   ]
  },
  {
   "cell_type": "code",
   "execution_count": 9,
   "metadata": {},
   "outputs": [
    {
     "data": {
      "text/plain": [
       "[[0, 3], [8, 5], [8, 4], [1, 3], [11, 14], [3, 8], [4, 7], [1, 5], [3, 5]]"
      ]
     },
     "execution_count": 9,
     "metadata": {},
     "output_type": "execute_result"
    }
   ],
   "source": [
    "a = [[0,3],[8,5],[8,4],[1,3],[11,14],[3,8],[4,7],[1,5],[3,5]]\n",
    "a"
   ]
  },
  {
   "cell_type": "code",
   "execution_count": 10,
   "metadata": {},
   "outputs": [
    {
     "data": {
      "text/plain": [
       "[[0, 3], [1, 3], [1, 5], [3, 8], [3, 5], [4, 7], [8, 5], [8, 4], [11, 14]]"
      ]
     },
     "execution_count": 10,
     "metadata": {},
     "output_type": "execute_result"
    }
   ],
   "source": [
    "a.sort(key=lambda x:x[0])\n",
    "a"
   ]
  },
  {
   "cell_type": "code",
   "execution_count": 11,
   "metadata": {},
   "outputs": [
    {
     "data": {
      "text/plain": [
       "[[0, 3], [1, 3], [8, 4], [1, 5], [3, 5], [8, 5], [4, 7], [3, 8], [11, 14]]"
      ]
     },
     "execution_count": 11,
     "metadata": {},
     "output_type": "execute_result"
    }
   ],
   "source": [
    "a.sort(key=lambda x:x[1])\n",
    "a"
   ]
  },
  {
   "cell_type": "code",
   "execution_count": 12,
   "metadata": {},
   "outputs": [
    {
     "data": {
      "text/plain": [
       "[[0, 3], [1, 3], [8, 4], [1, 5], [3, 5], [8, 5], [4, 7], [3, 8], [11, 14]]"
      ]
     },
     "execution_count": 12,
     "metadata": {},
     "output_type": "execute_result"
    }
   ],
   "source": [
    "a.sort(key=lambda x:(x[1],x[0]))\n",
    "a"
   ]
  },
  {
   "cell_type": "code",
   "execution_count": 13,
   "metadata": {},
   "outputs": [
    {
     "data": {
      "text/plain": [
       "[[1, 3], [0, 3], [8, 4], [8, 5], [3, 5], [1, 5], [4, 7], [3, 8], [11, 14]]"
      ]
     },
     "execution_count": 13,
     "metadata": {},
     "output_type": "execute_result"
    }
   ],
   "source": [
    "a.sort(key=lambda x:(x[1],-x[0]))\n",
    "a"
   ]
  },
  {
   "cell_type": "code",
   "execution_count": 14,
   "metadata": {},
   "outputs": [
    {
     "data": {
      "text/plain": [
       "[[0, 3], [1, 3], [1, 5], [3, 5], [3, 8], [4, 7], [8, 4], [8, 5], [11, 14]]"
      ]
     },
     "execution_count": 14,
     "metadata": {},
     "output_type": "execute_result"
    }
   ],
   "source": [
    "a.sort(key=lambda x:(x[0],x[1]))\n",
    "a"
   ]
  },
  {
   "cell_type": "code",
   "execution_count": null,
   "metadata": {},
   "outputs": [],
   "source": []
  }
 ],
 "metadata": {
  "kernelspec": {
   "display_name": "Python 3",
   "language": "python",
   "name": "python3"
  },
  "language_info": {
   "codemirror_mode": {
    "name": "ipython",
    "version": 3
   },
   "file_extension": ".py",
   "mimetype": "text/x-python",
   "name": "python",
   "nbconvert_exporter": "python",
   "pygments_lexer": "ipython3",
   "version": "3.8.5"
  }
 },
 "nbformat": 4,
 "nbformat_minor": 4
}
