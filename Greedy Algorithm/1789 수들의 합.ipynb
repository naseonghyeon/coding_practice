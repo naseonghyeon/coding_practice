{
 "cells": [
  {
   "cell_type": "markdown",
   "metadata": {},
   "source": [
    "## 문제"
   ]
  },
  {
   "cell_type": "markdown",
   "metadata": {},
   "source": [
    "서로 다른 N개의 자연수의 합이 S라고 한다. S를 알 때, 자연수 N의 최댓값은 얼마일까?<br>\n",
    "\n",
    "(시간 제한 : 2 초   ;   메모리 제한 : 128MB)"
   ]
  },
  {
   "cell_type": "markdown",
   "metadata": {},
   "source": [
    "## 입력"
   ]
  },
  {
   "cell_type": "markdown",
   "metadata": {},
   "source": [
    "첫째 줄에 자연수 S(1 ≤ S ≤ 4,294,967,295)가 주어진다."
   ]
  },
  {
   "cell_type": "markdown",
   "metadata": {},
   "source": [
    "## 출력"
   ]
  },
  {
   "cell_type": "markdown",
   "metadata": {},
   "source": [
    "첫째 줄에 자연수 N의 최댓값을 출력한다."
   ]
  },
  {
   "cell_type": "markdown",
   "metadata": {},
   "source": [
    "|예제입력1|예제출력1|\n",
    "|:--------|:--------|\n",
    "|200      |19       |"
   ]
  },
  {
   "cell_type": "markdown",
   "metadata": {},
   "source": [
    "## 풀이"
   ]
  },
  {
   "cell_type": "markdown",
   "metadata": {},
   "source": [
    "최대한 많은 수를 더해야 하기 때문에 1부터 커지면서 더하면 된다.<br>\n",
    "\n",
    "따라서 1부터 시작해서 1, 2, 3, 4, 5....를 answer값에 더해준다.<br>\n",
    "\n",
    "만일 answer가 입력 받은 수 보다 크다면 마지막으로 더해진 수에서 1을 뺀 수를 출력한다.(남은 수는 마지막 수를 높여서 더함)<br>\n",
    "\n",
    "answer가 입력 받은 수와 같다면 현재 더해진 수를 출력한다.<br>\n",
    "\n",
    "1부터 차례대로 1씩 더해졌기 때문에 그 수와 순서가 맞게 된다."
   ]
  },
  {
   "cell_type": "code",
   "execution_count": 1,
   "metadata": {},
   "outputs": [
    {
     "name": "stdout",
     "output_type": "stream",
     "text": [
      "200\n",
      "19\n"
     ]
    }
   ],
   "source": [
    "n = int(input()) # 수 입력\n",
    "s = 1 # 더해져야 할 수\n",
    "answer = 0\n",
    "\n",
    "# 1부터 N의 수 까지 더함\n",
    "while 1:\n",
    "    answer += s\n",
    "    if answer == n:\n",
    "        print(s)\n",
    "        break\n",
    "    elif answer > n:\n",
    "        print(s-1)\n",
    "        break\n",
    "    s += 1"
   ]
  },
  {
   "cell_type": "markdown",
   "metadata": {},
   "source": [
    "## 느낀점"
   ]
  },
  {
   "cell_type": "markdown",
   "metadata": {},
   "source": [
    "문제가 한 줄로 주어져 있어서 어떤 문제인지를 파악하는게 어려웠다.<br>\n",
    "\n",
    "문제를 이해하고 파악하는 능력을 기르는 것이 더 필요할 것 같다."
   ]
  },
  {
   "cell_type": "code",
   "execution_count": null,
   "metadata": {},
   "outputs": [],
   "source": []
  }
 ],
 "metadata": {
  "kernelspec": {
   "display_name": "Python 3",
   "language": "python",
   "name": "python3"
  },
  "language_info": {
   "codemirror_mode": {
    "name": "ipython",
    "version": 3
   },
   "file_extension": ".py",
   "mimetype": "text/x-python",
   "name": "python",
   "nbconvert_exporter": "python",
   "pygments_lexer": "ipython3",
   "version": "3.8.5"
  }
 },
 "nbformat": 4,
 "nbformat_minor": 4
}
