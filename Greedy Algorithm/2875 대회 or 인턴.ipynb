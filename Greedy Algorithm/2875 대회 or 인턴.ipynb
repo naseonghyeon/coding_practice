{
 "cells": [
  {
   "cell_type": "markdown",
   "metadata": {},
   "source": [
    "## 문제"
   ]
  },
  {
   "cell_type": "markdown",
   "metadata": {},
   "source": [
    "백준대학교에서는 대회에 나갈 때 2명의 여학생과 1명의 남학생이 팀을 결성해서 나가는 것이 원칙이다. (왜인지는 총장님께 여쭈어보는 것이 좋겠다.)<br>\n",
    "\n",
    "백준대학교는 뛰어난 인재들이 많아 올해에도 N명의 여학생과 M명의 남학생이 팀원을 찾고 있다. 대회에 참여하려는 학생들 중 K명은 반드시 인턴쉽 프로그램에 참여해야 한다. 인턴쉽에 참여하는 학생은 대회에 참여하지 못한다.<br>\n",
    "\n",
    "백준대학교에서는 뛰어난 인재들이 많기 때문에, 많은 팀을 만드는 것이 최선이다.<br>\n",
    "\n",
    "여러분은 여학생의 수 N, 남학생의 수 M, 인턴쉽에 참여해야하는 인원 K가 주어질 때 만들 수 있는 최대의 팀 수를 구하면 된다.<br>\n",
    "\n",
    "(시간 제한 : 1 초   ;   메모리 제한 : 128MB)"
   ]
  },
  {
   "cell_type": "markdown",
   "metadata": {},
   "source": [
    "## 입력"
   ]
  },
  {
   "cell_type": "markdown",
   "metadata": {},
   "source": [
    "첫째 줄에 N, M, K가 순서대로 주어진다. (0 ≤ M ≤ 100, 0 ≤ N ≤ 100, 0 ≤ K ≤ M+N),"
   ]
  },
  {
   "cell_type": "markdown",
   "metadata": {},
   "source": [
    "## 출력"
   ]
  },
  {
   "cell_type": "markdown",
   "metadata": {},
   "source": [
    "만들 수 있는 팀의 최대 개수을 출력하면 된다."
   ]
  },
  {
   "cell_type": "markdown",
   "metadata": {},
   "source": [
    "|예제 입력1|예제 출력1||예제 입력2|예제 출력2||예제 입력3|예제 출력3|\n",
    "|:--------|:--------|:--------|:--------|:--------|:--------|:--------|:--------|\n",
    "|6 3 2     |2         |          |2 1 1     |0         |          |6 10 3    |3"
   ]
  },
  {
   "cell_type": "markdown",
   "metadata": {},
   "source": [
    "## 풀이"
   ]
  },
  {
   "cell_type": "markdown",
   "metadata": {},
   "source": [
    "한 팀이 생성되기 위해서 N과 M의 비율은 2:1이 되어야 한다.<br>\n",
    "\n",
    "따라서 팀의 최대 개수는 N//2와 M 중 최솟값을 고르면 구할 수 있다.<br>\n",
    "\n",
    "이를 실행하기 전에 K의 값이 N+M 값에서 빼져야 하므로 N과 M 중 누굴 빼야할지 각 단계에서 정한다.</br>\n",
    "\n",
    "각 단계에서 N//2와 M의 크기를 비교하여 더 큰 값에서 1을 빼는 과정을 반복한다.<br>\n",
    "\n",
    "과정이 끝난 후 N//2와 M의 값 중 최솟값을 구하면 만들 수 있는 팀의 최대 개수를 구할 수 있다."
   ]
  },
  {
   "cell_type": "code",
   "execution_count": 23,
   "metadata": {},
   "outputs": [
    {
     "name": "stdout",
     "output_type": "stream",
     "text": [
      "6 3 2\n",
      "2\n"
     ]
    }
   ],
   "source": [
    "N, M, K = map(int, input().split())\n",
    "\n",
    "for _ in range(K):\n",
    "    if N//2 >= M:\n",
    "        N -= 1\n",
    "    else:\n",
    "        M -= 1\n",
    "    \n",
    "print(min(N//2, M))"
   ]
  }
 ],
 "metadata": {
  "kernelspec": {
   "display_name": "Python 3",
   "language": "python",
   "name": "python3"
  },
  "language_info": {
   "codemirror_mode": {
    "name": "ipython",
    "version": 3
   },
   "file_extension": ".py",
   "mimetype": "text/x-python",
   "name": "python",
   "nbconvert_exporter": "python",
   "pygments_lexer": "ipython3",
   "version": "3.8.5"
  }
 },
 "nbformat": 4,
 "nbformat_minor": 4
}
