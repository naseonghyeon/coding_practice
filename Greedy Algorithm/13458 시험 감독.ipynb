{
 "cells": [
  {
   "cell_type": "markdown",
   "metadata": {},
   "source": [
    "## 문제"
   ]
  },
  {
   "cell_type": "markdown",
   "metadata": {},
   "source": [
    "총 N개의 시험장이 있고, 각각의 시험장마다 응시자들이 있다. i번 시험장에 있는 응시자의 수는 Ai명이다.<br>\n",
    "\n",
    "감독관은 총감독관과 부감독관으로 두 종류가 있다. 총감독관은 한 시험장에서 감시할 수 있는 응시자의 수가 B명이고, 부감독관은 한 시험장에서 감시할 수 있는 응시자의 수가 C명이다.<br>\n",
    "\n",
    "각각의 시험장에 총감독관은 오직 1명만 있어야 하고, 부감독관은 여러 명 있어도 된다.<br>\n",
    "\n",
    "각 시험장마다 응시생들을 모두 감시해야 한다. 이때, 필요한 감독관 수의 최솟값을 구하는 프로그램을 작성하시오.<br>\n",
    "\n",
    "(시간 제한 : 2 초   ;   메모리 제한 : 512MB)"
   ]
  },
  {
   "cell_type": "markdown",
   "metadata": {},
   "source": [
    "## 입력"
   ]
  },
  {
   "cell_type": "markdown",
   "metadata": {},
   "source": [
    "첫째 줄에 시험장의 개수 N(1 ≤ N ≤ 1,000,000)이 주어진다.<br>\n",
    "\n",
    "둘째 줄에는 각 시험장에 있는 응시자의 수 Ai (1 ≤ Ai ≤ 1,000,000)가 주어진다.<br>\n",
    "\n",
    "셋째 줄에는 B와 C가 주어진다. (1 ≤ B, C ≤ 1,000,000)<br>"
   ]
  },
  {
   "cell_type": "markdown",
   "metadata": {},
   "source": [
    "## 출력"
   ]
  },
  {
   "cell_type": "markdown",
   "metadata": {},
   "source": [
    "각 시험장마다 응시생을 모두 감독하기 위해 필요한 감독관의 최소 수를 출력한다."
   ]
  },
  {
   "cell_type": "markdown",
   "metadata": {},
   "source": [
    "|예제 입력1|예제 출력1|          |예제 입력2|예제 출력2|          |예제 입력3|예제 출력3|\n",
    "|:---------|:---------|:---------|:---------|:---------|:---------|:---------|:---------|\n",
    "|1         |1         |          |3         |7         |          |5         |714290    |\n",
    "|1         |          |          |3 4 5     |          |          |1000000x5 |          |\n",
    "|1 1       |          |          |2 2       |          |          |5 7       |"
   ]
  },
  {
   "cell_type": "markdown",
   "metadata": {},
   "source": [
    "|예제 입력4  |예제 출력4|          |예제 입력5  |예제 출력5|\n",
    "|:-----------|:---------|:---------|:-----------|:---------|\n",
    "|5           |10        |          |5           |13        |\n",
    "|10 9 10 9 10|          |          |10 9 10 9 10|          |\n",
    "|7 20        |          |          |7 2         |          |"
   ]
  },
  {
   "cell_type": "markdown",
   "metadata": {},
   "source": [
    "## 풀이"
   ]
  },
  {
   "cell_type": "markdown",
   "metadata": {},
   "source": [
    "각 반의 수강생을 따로 계산하기 위해 for문으로 각 반의 수강생 수를 받은 리스트를 돌린다.<br>\n",
    "\n",
    "각 반에 총감독관은 오직 1명만 존재할 수 있기 때문에 총감독관이 감시할 수 있는 인원 수를 가장 먼저 뺀다.<br>\n",
    "\n",
    "각 반의 남은 수를 부감독관이 가능한 감시 인원수 만큼 빼면서 카운트를 1씩 올린다.<br>"
   ]
  },
  {
   "cell_type": "markdown",
   "metadata": {},
   "source": [
    "#### 시도 1"
   ]
  },
  {
   "cell_type": "code",
   "execution_count": 2,
   "metadata": {},
   "outputs": [
    {
     "name": "stdout",
     "output_type": "stream",
     "text": [
      "5\n",
      "1000000 1000000 1000000 1000000 1000000\n",
      "5 7\n",
      "714290\n"
     ]
    }
   ],
   "source": [
    "# 반 수, 응시자 수, 총감독관과 부감독관의 감시 인원 입력 \n",
    "N = int(input())\n",
    "A = list(map(int, input().split()))\n",
    "B, C = map(int, input().split())\n",
    "\n",
    "# 감독관의 수\n",
    "cnt = 0\n",
    "\n",
    "# 반의 수 만큼 반복\n",
    "for i in range(N):\n",
    "    # 총 감독관이 감시할 수 있는 수를 우선 제거 후 카운트\n",
    "    A[i] -= B\n",
    "    cnt += 1\n",
    "    # 각 반의 응시자 수가 0 이하가 될 때까지 부감독관의 감시 가능 수 만큼 제거 후 카운트\n",
    "    while A[i] > 0:\n",
    "        A[i] -= C\n",
    "        cnt += 1\n",
    "        \n",
    "print(cnt)"
   ]
  },
  {
   "cell_type": "markdown",
   "metadata": {},
   "source": [
    "정답은 맞으나 중첩반복문을 사용하여 제한시간 2초 안에 해결하지 못하는 것 같다.<br>\n",
    "\n",
    "반복문을 통하여 수를 계속 빼는데에 시간이 걸리는 것 같기 때문에 뺄셈이 아닌 몫과 나머지를 이용하여 구해보았다.<br>"
   ]
  },
  {
   "cell_type": "code",
   "execution_count": 3,
   "metadata": {},
   "outputs": [
    {
     "name": "stdout",
     "output_type": "stream",
     "text": [
      "5\n",
      "1000000 1000000 1000000 1000000 1000000\n",
      "5 7\n",
      "714290\n"
     ]
    }
   ],
   "source": [
    "# 반 수, 응시자 수, 총감독관과 부감독관의 감시 인원 입력 \n",
    "N = int(input())\n",
    "A = list(map(int, input().split()))\n",
    "B, C = map(int, input().split())\n",
    "\n",
    "# 감독관의 수\n",
    "cnt = 0\n",
    "\n",
    "# 반의 수 만큼 반복\n",
    "for i in range(N):\n",
    "    # 총 감독관이 감시할 수 있는 수를 우선 제거 후 카운트\n",
    "    A[i] -= B\n",
    "    cnt += 1\n",
    "    if A[i] > 0:\n",
    "        cnt += (A[i] // C) # 카운트에 총 인원수를 부감독관 감시 가능 인원 만큼 나눈 값의 몫을 더함\n",
    "        if A[i] % C != 0: # 만일 남은 인원수가 있다면 부감독관을 1명 더 추가하여 감시\n",
    "            cnt += 1\n",
    "                \n",
    "print(cnt)"
   ]
  },
  {
   "cell_type": "markdown",
   "metadata": {},
   "source": [
    "반복문을 통하여 뺄셈을 반복하는 것을 지우고 총감독관의 감시 가능 인원을 뺀 값을 부감독관의 감시 가능 인원으로 나눈 몫을 구했다.<br>\n",
    "\n",
    "몫을 구하고 남은 값이 0이 아니면 감독과을 한 명 더 고용할 수 있다는 말이기 때문에 카운트를 1 올려주었다.<br>\n",
    "\n",
    "정답은 역시 같고 실행 시간을 통과할 수 있었다.<br>"
   ]
  },
  {
   "cell_type": "markdown",
   "metadata": {},
   "source": [
    "### 느낀점"
   ]
  },
  {
   "cell_type": "markdown",
   "metadata": {},
   "source": [
    "시간 초과의 문제를 스스로 생각하고 해결 할 수 있어서 뿌듯했다.<br>\n",
    "\n",
    "접근하기 전엔 막상 어렵게만 보이던게 직접 경험해보니 충분히 해결 가능하다는 점에서 자신감이 생기기 시작한다.<br>\n",
    "\n",
    "난이도가 높은 문제들도 접근해 보면서 실력과 자신감을 같이 향상 시키려 노력할 것이다.<br>"
   ]
  },
  {
   "cell_type": "code",
   "execution_count": null,
   "metadata": {},
   "outputs": [],
   "source": []
  }
 ],
 "metadata": {
  "kernelspec": {
   "display_name": "Python 3",
   "language": "python",
   "name": "python3"
  },
  "language_info": {
   "codemirror_mode": {
    "name": "ipython",
    "version": 3
   },
   "file_extension": ".py",
   "mimetype": "text/x-python",
   "name": "python",
   "nbconvert_exporter": "python",
   "pygments_lexer": "ipython3",
   "version": "3.8.5"
  }
 },
 "nbformat": 4,
 "nbformat_minor": 4
}
