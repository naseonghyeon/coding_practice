{
 "cells": [
  {
   "cell_type": "markdown",
   "metadata": {},
   "source": [
    "## 문제"
   ]
  },
  {
   "cell_type": "markdown",
   "metadata": {},
   "source": [
    "타로는 자주 JOI잡화점에서 물건을 산다. JOI잡화점에는 잔돈으로 500엔, 100엔, 50엔, 10엔, 5엔, 1엔이 충분히 있고, 언제나 거스름돈 개수가 가장 적게 잔돈을 준다. 타로가 JOI잡화점에서 물건을 사고 카운터에서 1000엔 지폐를 한장 냈을 때, 받을 잔돈에 포함된 잔돈의 개수를 구하는 프로그램을 작성하시오.<br>\n",
    "\n",
    "(시간 제한 : 2 초   ;   메모리 제한 : 192MB)"
   ]
  },
  {
   "cell_type": "markdown",
   "metadata": {},
   "source": [
    "## 입력"
   ]
  },
  {
   "cell_type": "markdown",
   "metadata": {},
   "source": [
    "입력은 한줄로 이루어져있고, 타로가 지불할 돈(1 이상 1000미만의 정수) 1개가 쓰여져있다."
   ]
  },
  {
   "cell_type": "markdown",
   "metadata": {},
   "source": [
    "## 출력"
   ]
  },
  {
   "cell_type": "markdown",
   "metadata": {},
   "source": [
    "제출할 출력 파일은 1행으로만 되어 있다. 잔돈에 포함된 매수를 출력하시오."
   ]
  },
  {
   "cell_type": "markdown",
   "metadata": {},
   "source": [
    "|예제 입력1|예제 출력1|          |예제 입력2|예제 출력2|\n",
    "|:---------|:---------|:---------|:---------|:---------|\n",
    "|380       |4         |          |1         |15        |"
   ]
  },
  {
   "cell_type": "markdown",
   "metadata": {},
   "source": [
    "## 풀이"
   ]
  },
  {
   "cell_type": "markdown",
   "metadata": {},
   "source": [
    "줘야 할 거스름돈을 최소 갯수의 현금으로 주어야 하는 알고리즘이다.<br>\n",
    "\n",
    "낸 돈이 1000원이니까 1000원에서 지불해야 할 돈의 값을 뺀 후 거슬러 줘야 할 돈을 각각 500, 100, 50, 10, 5, 1엔으로 빼면서 카운트를 세어 준다.<br>"
   ]
  },
  {
   "cell_type": "code",
   "execution_count": null,
   "metadata": {},
   "outputs": [],
   "source": [
    "N = int(input())\n",
    "\n",
    "money = 1000 - N\n",
    "count = 0\n",
    "\n",
    "while True:\n",
    "    if money >= 500:\n",
    "        money -= 500\n",
    "        count += 1\n",
    "    elif money >= 100:\n",
    "        money -= 100\n",
    "        count += 1\n",
    "    elif money >= 50:\n",
    "        money -= 50\n",
    "        count += 1\n",
    "    elif money >= 10:\n",
    "        money -= 10\n",
    "        count += 1\n",
    "    elif money >= 5:\n",
    "        money -= 5\n",
    "        count += 1\n",
    "    elif money >= 1:\n",
    "        money -= 1\n",
    "        count += 1\n",
    "    else:\n",
    "        break;"
   ]
  },
  {
   "cell_type": "markdown",
   "metadata": {},
   "source": [
    "### 느낀점"
   ]
  },
  {
   "cell_type": "markdown",
   "metadata": {},
   "source": [
    "다른 어려운 그리디 알고리즘을 해결하기엔 집중이 잘 되지 않고 어렵다고 느껴져서 정답률이 높은 문제를 풀어 보았다.<br>\n",
    "\n",
    "정답률이 높은 문제라서 나에게도 쉽게 느껴졌다.<br>\n",
    "\n",
    "이런 간단한 문제를 해결하면서 휴식하는 기분과 자신감을 얻을 수 있는 것 같다.<br>"
   ]
  },
  {
   "cell_type": "code",
   "execution_count": null,
   "metadata": {},
   "outputs": [],
   "source": []
  }
 ],
 "metadata": {
  "kernelspec": {
   "display_name": "Python 3",
   "language": "python",
   "name": "python3"
  },
  "language_info": {
   "codemirror_mode": {
    "name": "ipython",
    "version": 3
   },
   "file_extension": ".py",
   "mimetype": "text/x-python",
   "name": "python",
   "nbconvert_exporter": "python",
   "pygments_lexer": "ipython3",
   "version": "3.8.5"
  }
 },
 "nbformat": 4,
 "nbformat_minor": 4
}
