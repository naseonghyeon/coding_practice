{
 "cells": [
  {
   "cell_type": "markdown",
   "metadata": {},
   "source": [
    "## 문제"
   ]
  },
  {
   "cell_type": "markdown",
   "metadata": {},
   "source": [
    "세준이는 양수와 +, -, 그리고 괄호를 가지고 식을 만들었다. 그리고 나서 세준이는 괄호를 모두 지웠다.<br>\n",
    "\n",
    "그리고 나서 세준이는 괄호를 적절히 쳐서 이 식의 값을 최소로 만들려고 한다.<br>\n",
    "\n",
    "괄호를 적절히 쳐서 이 식의 값을 최소로 만드는 프로그램을 작성하시오.<br>\n",
    "\n",
    "(시간 제한 : 2 초   ;   메모리 제한 : 128MB)"
   ]
  },
  {
   "cell_type": "markdown",
   "metadata": {},
   "source": [
    "## 입력"
   ]
  },
  {
   "cell_type": "markdown",
   "metadata": {},
   "source": [
    "첫째 줄에 식이 주어진다. 식은 ‘0’~‘9’, ‘+’, 그리고 ‘-’만으로 이루어져 있고, 가장 처음과 마지막 문자는 숫자이다. 그리고 연속해서 두 개 이상의 연산자가 나타나지 않고, 5자리보다 많이 연속되는 숫자는 없다. 수는 0으로 시작할 수 있다. 입력으로 주어지는 식의 길이는 50보다 작거나 같다."
   ]
  },
  {
   "cell_type": "markdown",
   "metadata": {},
   "source": [
    "## 출력"
   ]
  },
  {
   "cell_type": "markdown",
   "metadata": {},
   "source": [
    "첫째 줄에 정답을 출력한다."
   ]
  },
  {
   "cell_type": "markdown",
   "metadata": {},
   "source": [
    "|예제 입력1|예제 출력1|\n",
    "|:---------|:---------|\n",
    "|55-50+40  |-35       |"
   ]
  },
  {
   "cell_type": "markdown",
   "metadata": {},
   "source": [
    "## 풀이"
   ]
  },
  {
   "cell_type": "markdown",
   "metadata": {},
   "source": [
    "식의 값을 최소로 만들어야 하기 때문에 식 안의 - 뒤에 있고 다음의 - 전까지의 수를 모두 더한 뒤 뺄셈을 하면 된다.<br>\n",
    "\n",
    "이를 위해서 식을 -를 기준으로 나누어 리스트에 저장한다.<br>\n",
    "\n",
    "이후 각 인덱스를 더한다.<br>\n",
    "\n",
    "만일 인덱스 안에 +가 있다면 + 표시를 빼고 수를 더한다.<br>\n",
    "\n",
    "더해진 인덱스들을 처음 값에서 모두 빼면 최솟값이 나온다."
   ]
  },
  {
   "cell_type": "code",
   "execution_count": 1,
   "metadata": {},
   "outputs": [
    {
     "name": "stdout",
     "output_type": "stream",
     "text": [
      "55-50+40\n",
      "-35\n"
     ]
    }
   ],
   "source": [
    "N = input().split('-') # -를 기준으로 나누어 리스트에 정리\n",
    "tmp = [] # 각 요소가 더해진 값을 잠시 넣어둘 빈 리스트\n",
    "\n",
    "# N 안의 각 요소를 더해서 tmp 안에 넣는다.\n",
    "for i in N:\n",
    "    tmp.append(sum(map(int, i.split('+'))))\n",
    "\n",
    "# tmp 안의 첫 요소에서 모든 더해진 요소를 뺌\n",
    "total = tmp[0]\n",
    "\n",
    "for a in tmp[1:]:\n",
    "    total -= a\n",
    "    \n",
    "print(total)"
   ]
  },
  {
   "cell_type": "markdown",
   "metadata": {},
   "source": [
    "### 느낀점"
   ]
  },
  {
   "cell_type": "markdown",
   "metadata": {},
   "source": [
    "처음 문제를 봤을 땐 아무런 생각이 나지 않았다.<br>\n",
    "\n",
    "그러나 백준 져지를 통해 split의 사용법을 익혀뒀기 때문에 어떤 방식으로 접근 해야할지를 떠오르게 되자 마자 바로 해결 할 수 있었다.<br>\n",
    "\n",
    "더 다양한 문제 해결 방법을 접하는 것이 필요한 것 같다."
   ]
  },
  {
   "cell_type": "code",
   "execution_count": null,
   "metadata": {},
   "outputs": [],
   "source": []
  }
 ],
 "metadata": {
  "kernelspec": {
   "display_name": "Python 3",
   "language": "python",
   "name": "python3"
  },
  "language_info": {
   "codemirror_mode": {
    "name": "ipython",
    "version": 3
   },
   "file_extension": ".py",
   "mimetype": "text/x-python",
   "name": "python",
   "nbconvert_exporter": "python",
   "pygments_lexer": "ipython3",
   "version": "3.8.5"
  }
 },
 "nbformat": 4,
 "nbformat_minor": 4
}
